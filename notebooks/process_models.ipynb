{
  "cells": [
    {
      "cell_type": "markdown",
      "source": [
        "# Title"
      ],
      "metadata": {}
    },
    {
      "cell_type": "code",
      "source": [
        "\"\"\"\n",
        "    TITLE   :\n",
        "    AUTHOR  :\n",
        "    PROJECT :\n",
        "\"\"\";\n",
        "\n",
        "__author__ = ''\n",
        "__version__ = ''"
      ],
      "outputs": [],
      "execution_count": null,
      "metadata": {
        "collapsed": false,
        "outputHidden": false,
        "inputHidden": false
      }
    },
    {
      "cell_type": "markdown",
      "source": [
        "<span style='font-size:30px;font-weight:650'>\n",
        "    About\n",
        "</span>\n",
        "\n",
        "information about this notebook  \n",
        "see commented out lines (below)\n",
        "\n",
        "<!--\n",
        "<span style='font-size:25px;font-weight:600'>\n",
        "    About\n",
        "</span>\n",
        "\n",
        "## Future Work\n",
        "--!>"
      ],
      "metadata": {}
    },
    {
      "cell_type": "markdown",
      "source": [
        "<br><br>\n",
        "\n",
        "- - - \n"
      ],
      "metadata": {}
    },
    {
      "cell_type": "markdown",
      "source": [
        "## Prepare"
      ],
      "metadata": {}
    },
    {
      "cell_type": "markdown",
      "source": [
        "### Imports"
      ],
      "metadata": {
        "collapsed": false,
        "outputHidden": false,
        "inputHidden": false
      }
    },
    {
      "cell_type": "code",
      "source": [
        "from utilipy import ipython\n",
        "ipython.run_imports(base=True, astropy=True, matplotlib=True)\n",
        "\n",
        "# BUILT-IN\n",
        "\n",
        "# THIRD PARTY\n",
        "\n",
        "# PROJECT-SPECIFIC"
      ],
      "outputs": [
        {
          "output_type": "stream",
          "name": "stderr",
          "text": [
            "/Users/nathanielstarkman/src/src/utilipy/util/pickle.py:31: UserWarning: can't import dill. Will only use pickle\n",
            "  warnings.warn(\"can't import dill. Will only use pickle\")\n"
          ]
        },
        {
          "output_type": "stream",
          "name": "stdout",
          "text": [
            "set autoreload to 1\n",
            "Returns\n",
            "-------\n",
            "Base: imports\n",
            "\n",
            "    - os, sys, time, pdb, warnings,\n",
            "    - numpy -> np, scipy,\n",
            "    - tqdm -> TQDM, .tqdm, .tqdm_notebook ->. tqdmn\n",
            "\n",
            "IPython: imports\n",
            "\n",
            "    - display, Latex, Markdown, set_trace,\n",
            "    - printmd, printMD, printltx, printLaTeX,\n",
            "    - set_autoreload, aimport,\n",
            "    - run_imports, import_from_file,\n",
            "    - add_raw_code_toggle\n",
            "\n",
            "utilipy: imports\n",
            "\n",
            "    - LogFile\n",
            "    - ObjDict\n",
            "Returns\n",
            "-------\n",
            "Astropy: imports\n",
            "\n",
            "    - units->u,\n",
            "    - coordinates->coords, SkyCoord,\n",
            "    - table.Table, QTable\n",
            "    - visualization.quantity_support, astropy_mpl_style\n",
            "Returns\n",
            "-------\n",
            "Matplotlib: imports\n",
            "\n",
            "    - pyplot->plt\n",
            "    - matplotlib->mpl, .cm, .colors\n",
            "    - mpl_toolkits.mplot3d.Axes3D\n",
            "\n",
            "utilipy: imports\n",
            "\n",
            "    - ipython.plot.configure_matplotlib\n"
          ]
        }
      ],
      "execution_count": 1,
      "metadata": {
        "collapsed": false,
        "outputHidden": false,
        "inputHidden": false
      }
    },
    {
      "cell_type": "markdown",
      "source": [
        "see commented out lines (below)\n",
        "\n",
        "<!--\n",
        "## Functions\n",
        "\n",
        "## Load Data\n",
        "--!>"
      ],
      "metadata": {}
    },
    {
      "cell_type": "markdown",
      "source": [
        "<br><br>\n",
        "\n",
        "- - - \n"
      ],
      "metadata": {}
    },
    {
      "cell_type": "markdown",
      "source": [
        "## Code"
      ],
      "metadata": {}
    },
    {
      "cell_type": "code",
      "source": [],
      "outputs": [],
      "execution_count": 4,
      "metadata": {
        "collapsed": false,
        "outputHidden": false,
        "inputHidden": false
      }
    },
    {
      "cell_type": "markdown",
      "source": [
        "<br><br>\n",
        "\n",
        "- - - \n",
        "\n",
        "<span style='font-size:40px;font-weight:650'>\n",
        "    END\n",
        "</span>"
      ],
      "metadata": {}
    }
  ],
  "metadata": {
    "kernelspec": {
      "name": "utilipy",
      "language": "python",
      "display_name": "utilipy"
    },
    "language_info": {
      "name": "python",
      "version": "3.7.3",
      "mimetype": "text/x-python",
      "codemirror_mode": {
        "name": "ipython",
        "version": 3
      },
      "pygments_lexer": "ipython3",
      "nbconvert_exporter": "python",
      "file_extension": ".py"
    },
    "nteract": {
      "version": "0.23.3"
    },
    "kernel_info": {
      "name": "utilipy"
    }
  },
  "nbformat": 4,
  "nbformat_minor": 2
}