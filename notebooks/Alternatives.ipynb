{
 "cells": [
  {
   "cell_type": "markdown",
   "metadata": {},
   "source": [
    "# Alternatives"
   ]
  },
  {
   "cell_type": "code",
   "execution_count": null,
   "metadata": {
    "collapsed": false,
    "inputHidden": false,
    "jupyter": {
     "outputs_hidden": false
    },
    "outputHidden": false
   },
   "outputs": [],
   "source": [
    "\"\"\"\n",
    "    TITLE   :\n",
    "    AUTHOR  :\n",
    "    PROJECT :\n",
    "\"\"\";\n",
    "\n",
    "__author__ = ''\n",
    "__version__ = ''"
   ]
  },
  {
   "cell_type": "markdown",
   "metadata": {},
   "source": [
    "<span style='font-size:30px;font-weight:650'>\n",
    "    About\n",
    "</span>\n",
    "\n",
    "information about this notebook  \n",
    "see commented out lines (below)\n"
   ]
  },
  {
   "cell_type": "markdown",
   "metadata": {},
   "source": [
    "<br><br>\n",
    "\n",
    "- - - \n"
   ]
  },
  {
   "cell_type": "markdown",
   "metadata": {},
   "source": [
    "## Prepare"
   ]
  },
  {
   "cell_type": "markdown",
   "metadata": {
    "inputHidden": false,
    "outputHidden": false
   },
   "source": [
    "### Imports"
   ]
  },
  {
   "cell_type": "code",
   "execution_count": 2,
   "metadata": {
    "collapsed": false,
    "inputHidden": false,
    "jupyter": {
     "outputs_hidden": false
    },
    "outputHidden": false
   },
   "outputs": [
    {
     "name": "stdout",
     "output_type": "stream",
     "text": [
      "set autoreload to 1\n"
     ]
    }
   ],
   "source": [
    "from utilipy import ipython\n",
    "ipython.run_imports(base=True, astropy=True, matplotlib=True)\n",
    "\n",
    "# BUILT-IN\n",
    "\n",
    "# THIRD PARTY\n",
    "\n",
    "import clustertools\n",
    "from clustertools.analysis.tails import tail_path_match\n",
    "\n",
    "# PROJECT-SPECIFIC"
   ]
  },
  {
   "cell_type": "markdown",
   "metadata": {},
   "source": [
    "<br><br>\n",
    "\n",
    "- - - \n"
   ]
  },
  {
   "cell_type": "markdown",
   "metadata": {},
   "source": [
    "## `clustertools`\n",
    "\n",
    "https://github.com/webbjj/clustertools\n",
    "\n",
    "The function `tail_path_match` does a good job. However it is not agnostic of the potential in which the stream lives. For experiments attemtpting to parameterize the potential, if the performance of the stream characterization function is potential-dependent, understanding how to propagate uncertainties is very challenging."
   ]
  },
  {
   "cell_type": "code",
   "execution_count": 3,
   "metadata": {},
   "outputs": [],
   "source": [
    "data = QTable.read(\"../streamtrack/data/00590_peri.dat\", format=\"ascii\")"
   ]
  },
  {
   "cell_type": "code",
   "execution_count": 8,
   "metadata": {},
   "outputs": [
    {
     "data": {
      "text/plain": [
       "<clustertools.analysis.cluster.StarCluster at 0x7fe1f6ad0d60>"
      ]
     },
     "execution_count": 8,
     "metadata": {},
     "output_type": "execute_result"
    }
   ],
   "source": [
    "cluster = clustertools.StarCluster.from_Table(data, key_params=True, do_order=True,)\n",
    "cluster"
   ]
  },
  {
   "cell_type": "code",
   "execution_count": 9,
   "metadata": {},
   "outputs": [
    {
     "data": {
      "text/plain": [
       "array([ 4.10562007,  4.10745171,  4.10801469, ..., -0.35825485,\n",
       "        5.87858293, -2.17641886])"
      ]
     },
     "execution_count": 9,
     "metadata": {},
     "output_type": "execute_result"
    }
   ],
   "source": [
    "cluster.x"
   ]
  },
  {
   "cell_type": "markdown",
   "metadata": {},
   "source": [
    "<br><br>\n",
    "\n",
    "- - - \n",
    "\n",
    "<span style='font-size:40px;font-weight:650'>\n",
    "    END\n",
    "</span>"
   ]
  }
 ],
 "metadata": {
  "kernel_info": {
   "name": "utilipy"
  },
  "kernelspec": {
   "display_name": "dev",
   "language": "python",
   "name": "dev"
  },
  "language_info": {
   "codemirror_mode": {
    "name": "ipython",
    "version": 3
   },
   "file_extension": ".py",
   "mimetype": "text/x-python",
   "name": "python",
   "nbconvert_exporter": "python",
   "pygments_lexer": "ipython3",
   "version": "3.8.2"
  },
  "nteract": {
   "version": "0.23.3"
  }
 },
 "nbformat": 4,
 "nbformat_minor": 4
}
