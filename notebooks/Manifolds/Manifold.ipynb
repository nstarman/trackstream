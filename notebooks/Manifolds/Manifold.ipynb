{
 "cells": [
  {
   "cell_type": "markdown",
   "metadata": {},
   "source": [
    "# Title"
   ]
  },
  {
   "cell_type": "code",
   "execution_count": null,
   "metadata": {
    "collapsed": false,
    "inputHidden": false,
    "jupyter": {
     "outputs_hidden": false
    },
    "outputHidden": false
   },
   "outputs": [],
   "source": [
    "\"\"\"\n",
    "    TITLE   :\n",
    "    AUTHOR  :\n",
    "    PROJECT :\n",
    "\"\"\";\n",
    "\n",
    "__author__ = ''\n",
    "__version__ = ''"
   ]
  },
  {
   "cell_type": "markdown",
   "metadata": {},
   "source": [
    "<span style='font-size:30px;font-weight:650'>\n",
    "    About\n",
    "</span>\n",
    "\n",
    "information about this notebook  \n",
    "see commented out lines (below)\n",
    "\n",
    "<!--\n",
    "<span style='font-size:25px;font-weight:600'>\n",
    "    About\n",
    "</span>\n",
    "\n",
    "## Future Work\n",
    "--!>"
   ]
  },
  {
   "cell_type": "markdown",
   "metadata": {},
   "source": [
    "<br><br>\n",
    "\n",
    "- - - \n"
   ]
  },
  {
   "cell_type": "markdown",
   "metadata": {},
   "source": [
    "## Prepare"
   ]
  },
  {
   "cell_type": "markdown",
   "metadata": {
    "inputHidden": false,
    "outputHidden": false
   },
   "source": [
    "### Imports"
   ]
  },
  {
   "cell_type": "code",
   "execution_count": 1,
   "metadata": {
    "collapsed": false,
    "inputHidden": false,
    "jupyter": {
     "outputs_hidden": false
    },
    "outputHidden": false
   },
   "outputs": [
    {
     "name": "stderr",
     "output_type": "stream",
     "text": [
      "/Users/nathanielstarkman/src/src/utilipy/util/pickle.py:31: UserWarning: can't import dill. Will only use pickle\n",
      "  warnings.warn(\"can't import dill. Will only use pickle\")\n"
     ]
    },
    {
     "name": "stdout",
     "output_type": "stream",
     "text": [
      "set autoreload to 1\n",
      "Returns\n",
      "-------\n",
      "Base: imports\n",
      "\n",
      "    - os, sys, time, pdb, warnings,\n",
      "    - numpy -> np, scipy,\n",
      "    - tqdm -> TQDM, .tqdm, .tqdm_notebook ->. tqdmn\n",
      "\n",
      "IPython: imports\n",
      "\n",
      "    - display, Latex, Markdown, set_trace,\n",
      "    - printmd, printMD, printltx, printLaTeX,\n",
      "    - set_autoreload, aimport,\n",
      "    - run_imports, import_from_file,\n",
      "    - add_raw_code_toggle\n",
      "\n",
      "utilipy: imports\n",
      "\n",
      "    - LogFile\n",
      "    - ObjDict\n",
      "Returns\n",
      "-------\n",
      "Astropy: imports\n",
      "\n",
      "    - units->u,\n",
      "    - coordinates->coords, SkyCoord,\n",
      "    - table.Table, QTable\n",
      "    - visualization.quantity_support, astropy_mpl_style\n",
      "Returns\n",
      "-------\n",
      "Matplotlib: imports\n",
      "\n",
      "    - pyplot->plt\n",
      "    - matplotlib->mpl, .cm, .colors\n",
      "    - mpl_toolkits.mplot3d.Axes3D\n",
      "\n",
      "utilipy: imports\n",
      "\n",
      "    - ipython.plot.configure_matplotlib\n"
     ]
    }
   ],
   "source": [
    "from utilipy import ipython\n",
    "ipython.run_imports(base=True, astropy=True, matplotlib=True)\n",
    "\n",
    "# BUILT-IN\n",
    "\n",
    "# THIRD PARTY\n",
    "\n",
    "# PROJECT-SPECIFIC"
   ]
  },
  {
   "cell_type": "markdown",
   "metadata": {},
   "source": [
    "see commented out lines (below)\n",
    "\n",
    "<!--\n",
    "## Functions\n",
    "\n",
    "## Load Data\n",
    "--!>"
   ]
  },
  {
   "cell_type": "markdown",
   "metadata": {},
   "source": [
    "<br><br>\n",
    "\n",
    "- - - \n"
   ]
  },
  {
   "cell_type": "markdown",
   "metadata": {},
   "source": [
    "## Code"
   ]
  },
  {
   "cell_type": "code",
   "execution_count": 4,
   "metadata": {
    "collapsed": false,
    "inputHidden": false,
    "jupyter": {
     "outputs_hidden": false
    },
    "outputHidden": false
   },
   "outputs": [],
   "source": []
  },
  {
   "cell_type": "markdown",
   "metadata": {},
   "source": [
    "<br><br>\n",
    "\n",
    "- - - \n",
    "\n",
    "<span style='font-size:40px;font-weight:650'>\n",
    "    END\n",
    "</span>"
   ]
  }
 ],
 "metadata": {
  "kernel_info": {
   "name": "utilipy"
  },
  "kernelspec": {
   "display_name": "dev",
   "language": "python",
   "name": "dev"
  },
  "language_info": {
   "codemirror_mode": {
    "name": "ipython",
    "version": 3
   },
   "file_extension": ".py",
   "mimetype": "text/x-python",
   "name": "python",
   "nbconvert_exporter": "python",
   "pygments_lexer": "ipython3",
   "version": "3.8.2"
  },
  "nteract": {
   "version": "0.23.3"
  }
 },
 "nbformat": 4,
 "nbformat_minor": 4
}
